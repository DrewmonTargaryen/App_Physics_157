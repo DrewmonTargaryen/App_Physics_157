{
  "nbformat": 4,
  "nbformat_minor": 0,
  "metadata": {
    "colab": {
      "provenance": []
    },
    "kernelspec": {
      "name": "python3",
      "display_name": "Python 3"
    },
    "language_info": {
      "name": "python"
    }
  },
  "cells": [
    {
      "cell_type": "markdown",
      "source": [
        "# **AP157 Module C Lab Assignment**\n",
        "\n",
        "## Module C2: Monte Carlo Methods\n",
        "\n",
        "_Instructions_: Answer each part of the assignment as completely as you can. Discuss **all** your code and results as clearly and concisely as possible.\n",
        "\n",
        "_Scoring Criteria_: 50% - *correctness of code*; 50% - *discussion of the code and results*. Maximum score is **100 points**.\n",
        "\n",
        "_Credits_: This lab assignment is based on work by Dr. Reyes in collaboration with Gene Belinario and Dr. Reginald Bernardo.\n",
        "\n",
        "_Additional Reference_: MCMC Tutorial - https://prappleizer.github.io/Tutorials/MCMC/MCMC_Tutorial_Solution.html"
      ],
      "metadata": {
        "id": "8u3wdhYhX6GF"
      }
    },
    {
      "cell_type": "markdown",
      "source": [
        "### Student Information\n",
        "\n",
        "_Full Name (Last Name, First Name)_: Chris Andrew Mendoza \\\n",
        "_Student No._: 2019-02636 \\\n",
        "_Section_: THY-TX-1"
      ],
      "metadata": {
        "id": "x6QU0eeNYseY"
      }
    },
    {
      "cell_type": "markdown",
      "source": [
        "### Submission Information\n",
        "\n",
        "_Date and Time Submitted (most recent upload)_: May 23, 2024 (11:59 PM)\n",
        "\n",
        "**HONOR PLEDGE** I affirm that I have upheld the highest principles of honesty and integrity in my academic work and that this lab assignment is my own work.\n",
        "\n",
        "**Sign here with your full name:** Chris Andrew Mendoza"
      ],
      "metadata": {
        "id": "GzwlHlFwYtbv"
      }
    },
    {
      "cell_type": "markdown",
      "source": [
        "### Grading Information (c/o Instructor)\n",
        "\n",
        "TOTAL SCORE: **[]**/100\n",
        "\n",
        "Score breakdown:\n",
        "* Part 1 - []/20\n",
        "* Part 2 - []/20\n",
        "* Part 3 - []/30\n",
        "* Part 4 - []/30\n",
        "\n",
        "_Date and Time Scored (MM/DD/YYYY HH:MM AM/PM):_"
      ],
      "metadata": {
        "id": "1as4IpTFYxfx"
      }
    },
    {
      "cell_type": "markdown",
      "source": [
        "In this lab assignment, you will generate constraints on cosmological parameters, the Hubble parameter H_0 and matter density Omega_m,0, from (synthetic) Hubble diagram data points from gravitational-wave (GW) sirens observed from 3 GW observatories: LIGO, LISA, and Einstein Telescope (ET).\n",
        "\n",
        "The datasets are in the Google Drive \"Datasets\" Folder under \"AP157_moduleC2\" subfolder: https://drive.google.com/drive/folders/1UnK1AggxdsjtG3PoOcyXfpahBcWjOBzj?usp=drive_link.\n",
        "\n",
        "Read in the 3 datasets from the CSV files: LIGO.csv, LISA.csv, ET.csv. The columns are redshift (z), luminosity distance (dL), and error in the luminosity distance (err). The distances are in units of Gpc (giga-parsecs).\n",
        "\n",
        "Load the data into variable names: zLIGO, dLLIGO, errLIGO, zLISA, dLLISA, errLISA, and zET, dLET, and errET, respectively. Note that these variable names will be used in later parts of the code, so you have to use these names for compatibility."
      ],
      "metadata": {
        "id": "PB0N2FuuY3RU"
      }
    },
    {
      "cell_type": "code",
      "source": [
        "from google.colab import drive\n",
        "drive.mount(\"/content/drive\")"
      ],
      "metadata": {
        "id": "wWNT09i67_zg",
        "colab": {
          "base_uri": "https://localhost:8080/"
        },
        "outputId": "7ee5d549-2283-42c0-9c3c-febf26c3331f"
      },
      "execution_count": 1,
      "outputs": [
        {
          "output_type": "stream",
          "name": "stdout",
          "text": [
            "Mounted at /content/drive\n"
          ]
        }
      ]
    },
    {
      "cell_type": "code",
      "source": [
        "!ls drive/My\\ Drive"
      ],
      "metadata": {
        "colab": {
          "base_uri": "https://localhost:8080/"
        },
        "id": "o21ToXZJsmF4",
        "outputId": "c87e7099-a40a-4c90-fb1f-d2f71ac9aac3"
      },
      "execution_count": 2,
      "outputs": [
        {
          "output_type": "stream",
          "name": "stdout",
          "text": [
            " 1080652.jpg\n",
            "'132 PROB SETS'\n",
            "'151 Problem Set 1.pdf'\n",
            "'165 Camera Setup'\n",
            "'167 Activity 6: Color Science '\n",
            "'170 Problem Set 1.pdf'\n",
            " 184\n",
            " 184_act_1\n",
            " 191_Data\n",
            "'191 Set A'\n",
            "'191 - SET C EXPERIMENTS'\n",
            "'192 Exp 2'\n",
            "'192 Experiment 3'\n",
            "'192 Experiment 3 (New Data)'\n",
            " 192_SetB_Exp3.xlsx\n",
            "'192 Set B - Experiment 3.gsheet'\n",
            " 192_SetC_Experiment_1.gsheet\n",
            " 20210709_190543.jpg\n",
            " 20210709_190732.jpg\n",
            " 20210713_010723.jpg\n",
            " 20210724_020633.jpg\n",
            " 20220503_174636.jpg\n",
            " 20220503_175058.jpg\n",
            " 20230126_102907.jpg\n",
            " 20230205_111114.jpg\n",
            " 20230205_185156.jpg\n",
            " 20230227_170223.jpg\n",
            " 20230227_170245.jpg\n",
            " 20230303_110756.jpg\n",
            " 20230315_170009.jpg\n",
            " 20230403_153905.jpg\n",
            " 20230403_154126.jpg\n",
            " 20230403_154603.jpg\n",
            " 20230606_233247.jpg\n",
            " 20230607_173628.jpg\n",
            "'20230719_204157 (1).jpg'\n",
            " 20230719_204157.jpg\n",
            "'20230719_204250 (1).jpg'\n",
            " 20230719_204250.jpg\n",
            " 20230719_205910.mp4\n",
            " 20230719_210316.jpg\n",
            "'20230719_210317 (1).jpg'\n",
            " 20230719_210317.jpg\n",
            " 20230719_211938.mp4\n",
            " 20230719_213138.mp4\n",
            " 20230719_214628.mp4\n",
            " 20230719_223236.jpg\n",
            " 20230725_201704.jpg\n",
            " 20230725_201745.jpg\n",
            " 20230725_201807.jpg\n",
            " 20230725_202037.jpg\n",
            " 20230725_202114.jpg\n",
            " 20230726_150843.jpg\n",
            " 20230726_150903.jpg\n",
            " 20230727_155604.jpg\n",
            " 20230727_155849.jpg\n",
            " 20230727_155901.jpg\n",
            " 20230727_155933.jpg\n",
            " 20230727_160051.jpg\n",
            " 20230727_160208.jpg\n",
            " 20230727_160606.jpg\n",
            " 20230727_161436.jpg\n",
            " 20230727_162630.jpg\n",
            " 20230727_162713.jpg\n",
            " 20230727_163305.jpg\n",
            " 20230727_163623.jpg\n",
            " 20230727_165601.jpg\n",
            " 20230727_165943.jpg\n",
            " 20230727_170011.jpg\n",
            " 20230727_171551.jpg\n",
            " 20230801_142954.jpg\n",
            " 20230821_191837.jpg\n",
            " 20230825_102851.jpg\n",
            " 20230825_103231.jpg\n",
            " 20230825_103316.jpg\n",
            " 20230825_123712.jpg\n",
            " 20230827_144911.jpg\n",
            " 20230827_155410.jpg\n",
            " 20230829_172407.jpg\n",
            " 20230904_182619.jpg\n",
            " 20230906_232952.jpg\n",
            " 20230910_110441.jpg\n",
            " 20230910_112155.jpg\n",
            " 20230910_121127.jpg\n",
            " 20230910_124050_C.jpg\n",
            " 20230910_131957.jpg\n",
            " 20230916_113927.jpg\n",
            " 20230916_114736.jpg\n",
            " 20230916_115417.jpg\n",
            " 20230916_120455.jpg\n",
            " 20230916_120615.jpg\n",
            " 20230916_121406.jpg\n",
            " 20230916_121825.jpg\n",
            " 20230916_124319.jpg\n",
            " 20230916_124332.jpg\n",
            " 20230916_131443.jpg\n",
            " 20230916_132349.jpg\n",
            " 20230916_133434.jpg\n",
            " 20230916_134310.jpg\n",
            " 20230916_144455.jpg\n",
            " 20230916_145034.jpg\n",
            " 20230916_155237.jpg\n",
            " 20230916_161713.jpg\n",
            " 20230916_175401.jpg\n",
            " 20230916_181133.jpg\n",
            " 20230917_150350.jpg\n",
            " 20230917_150406.jpg\n",
            " 20230917_150420.jpg\n",
            " 20230922_123148.jpg\n",
            " 20230929_171529.jpg\n",
            " 20231001_210713.jpg\n",
            " 20231004_152819.jpg\n",
            " 20231004_155323.jpg\n",
            " 20231005_181256.jpg\n",
            "'20231006_154902 (1).mp4'\n",
            " 20231006_154902.mp4\n",
            " 20231006_155031.jpg\n",
            " 20231012_181929.jpg\n",
            " 20231012_210932.jpg\n",
            " 20231015_165808.jpg\n",
            " 20231018_162924.jpg\n",
            " 20231020_143722.jpg\n",
            " 20231025_144210.jpg\n",
            " 20231107_131656.jpg\n",
            " 20231107_133314.jpg\n",
            " 20231107_140653.jpg\n",
            " 20231108_092442.mp4\n",
            " 20231108_092720.jpg\n",
            " 20231108_163418.mp4\n",
            " 20231108_163745.jpg\n",
            " 20231125_221632.jpg\n",
            " 20231125_233154.jpg\n",
            " 20231127_191235.jpg\n",
            " 20231129_151947.jpg\n",
            " 20231206_021930.jpg\n",
            " 20231206_122318.jpg\n",
            " 20231206_124014.jpg\n",
            " 20231212_143038.jpg\n",
            " 20231212_151520.jpg\n",
            " 20231212_151537.jpg\n",
            "'20231215_142741 (1).jpg'\n",
            "'20231215_142741 (2).jpg'\n",
            "'20231215_142741 (3).jpg'\n",
            "'20231215_142741 (4).jpg'\n",
            "'20231215_142741 (5).jpg'\n",
            "'20231215_142741 (6).jpg'\n",
            "'20231215_142741 (7).jpg'\n",
            " 20231215_142741.jpg\n",
            " 20231215_142817.jpg\n",
            "'20231216_214444 (1).jpg'\n",
            "'20231216_214444 (2).jpg'\n",
            "'20231216_214444 (3).jpg'\n",
            "'20231216_214444 (4).jpg'\n",
            "'20231216_214444 (5).jpg'\n",
            "'20231216_214444 (6).jpg'\n",
            "'20231216_214444 (7).jpg'\n",
            " 20231216_214444.jpg\n",
            "'20231216_214603 (1).jpg'\n",
            "'20231216_214603 (2).jpg'\n",
            "'20231216_214603 (3).jpg'\n",
            "'20231216_214603 (4).jpg'\n",
            "'20231216_214603 (5).jpg'\n",
            "'20231216_214603 (6).jpg'\n",
            "'20231216_214603 (7).jpg'\n",
            "'20231216_214603 (8).jpg'\n",
            " 20231216_214603.jpg\n",
            " 20231223_165747.jpg\n",
            " 20240105_024916.jpg\n",
            " 20240105_035204.jpg\n",
            " 20240112_132822.jpg\n",
            " 20240114184420.PNG\n",
            " 20240117_002547.jpg\n",
            "'20240117_002606 (1).jpg'\n",
            " 20240117_002606.jpg\n",
            " 20240117_002856.jpg\n",
            "'20240117_002918 (1).jpg'\n",
            " 20240117_002918.jpg\n",
            "'20240117_003045 (1).jpg'\n",
            " 20240117_003045.jpg\n",
            "'20240118_080728 (1).jpg'\n",
            " 20240118_080728.jpg\n",
            "'20240118_080742 (1).jpg'\n",
            " 20240118_080742.jpg\n",
            " 20240204_161205.jpg\n",
            " 20240204_173020.jpg\n",
            " 20240214_211058.jpg\n",
            " 20240217_104216.jpg\n",
            " 20240217_105100.jpg\n",
            "'20240217_112705 (1).jpg'\n",
            " 20240217_112705.jpg\n",
            " 20240217_113708.jpg\n",
            " 20240217_113936.jpg\n",
            " 20240217_114146.jpg\n",
            "'20240217_121952 (1).jpg'\n",
            " 20240217_121952.jpg\n",
            " 20240217_122753.jpg\n",
            " 20240222_194801.jpg\n",
            " 20240223_170915.jpg\n",
            " 20240223_170937.jpg\n",
            " 20240223_205410.mp4\n",
            " 20240226_200808.jpg\n",
            " 20240227_083753.jpg\n",
            " 20240303_122220.jpg\n",
            " 20-effortless-wavy-flow-cut-for-men-with-longer-hair.webp\n",
            "'2324B FinComm Mem Info Sheet.gsheet'\n",
            "'[2342] UPIC_Lanyard (DRAFT).png'\n",
            " 24-longer-hair-bro-flow-with-loose-waves-for-men.webp\n",
            "'298953786_373586131603366_2019520380592171122_n (1).png'\n",
            " 298953786_373586131603366_2019520380592171122_n.png\n",
            "'3D Shadow'\n",
            " 412324858_760079726147739_498591728075338652_n.jpg\n",
            " 414701622_3232490420378828_8415276015960888809_n.jpg\n",
            " 436108265_301024929706361_618203216854169441_n.jpg\n",
            " 47690547_1964803950493928_329759754310544768_n.jpg\n",
            " 62f3ee5dd95ad70f64b98f1efde13d43.jpg\n",
            " 7de3e2a0-ade2-4ac0-aa8a-a044fd36033b.pdf\n",
            "'Andrew pics'\n",
            "'AP155 Course Pack'\n",
            " APPLICATION-FOR-GRAD-FORM-11.3.20A.pdf\n",
            "'App Phys 167'\n",
            "'App Physics 157'\n",
            "'App Physics 167'\n",
            "'[App Physics 184]Mendoza_Bode_Plot_Activity.pdf'\n",
            " Artss\n",
            " b98de307449e4e2331da9518cf6438fd.jpg\n",
            "'Blank Quiz.gform'\n",
            "'Brazil PlotTask'\n",
            "'CHRIS ANDREW MENDOZA.jpg'\n",
            " Classroom\n",
            "'Colab Notebooks'\n",
            " Concerts\n",
            " CONSENT_MENDOZA_CHRIS_ANDREW_P..pdf\n",
            "'Copy of download (1).png'\n",
            "'Copy of Reference - 02 Radioactive Dice.pdf'\n",
            "'Copy of UPIC Internal Ledger 2223A.gsheet'\n",
            " data.csv\n",
            "'David J. Griffiths-Introduction to Electrodynamics-Addison-Wesley (2012).pdf'\n",
            "'Determining the lifetime of long-lived particles at the HL-LHC.pdf'\n",
            " Dork\n",
            "'DOST ID (1).pdf'\n",
            "'DOST ID (2).pdf'\n",
            "'DOST ID (3).pdf'\n",
            "'DOST ID.pdf'\n",
            "'DOST Requirements (1).png'\n",
            "'DOST Requirements (2).png'\n",
            "'DOST Requirements (3).png'\n",
            "'DOST Requirements.png'\n",
            " DOST_Requirements.png\n",
            "'DOST Scholars Submission Form.pdf'\n",
            " Drew_and_Jake_Tiktok_Clips\n",
            " Drew_Apology_Letter.gdoc\n",
            " _DSC8705-02.jpeg\n",
            " e2d98bc4f5314c2a58cc7e737c39b5ff.jpg\n",
            " EAE5FE09-BF05-4B46-9538-571FFD397B24.PNG\n",
            " edit\n",
            " Editeds.jpg\n",
            "'EV Landscape Overview'\n",
            "'Experiment 1 Raw Data.gsheet'\n",
            "'Fast cooling'\n",
            " FB_IMG_1701616540882.jpg\n",
            " FB_IMG_1702963009428.jpg\n",
            " FB_IMG_1707576988758.jpg\n",
            " FB_IMG_1707647842603.jpg\n",
            " FB_IMG_1708604673239.jpg\n",
            "'FB_IMG_1713410703802 (1).jpg'\n",
            " FB_IMG_1713410703802.jpg\n",
            "'FB_IMG_1713410980201 (1).jpg'\n",
            " FB_IMG_1713410980201.jpg\n",
            " FIN_Andrew.png\n",
            "'FinComm Kumustahan.gdoc'\n",
            " FIN_COMM_Scheds\n",
            "'FORM5_2019-02636-2nd Sem 22-23.pdf'\n",
            "'FORM_5A_2019-02636_First Semester AY 2020-2021.pdf'\n",
            "'FORM_5A_2019-02636_First Semester AY 2022-2023 (1).pdf'\n",
            "'FORM_5A_2019-02636_First Semester AY 2022-2023.pdf'\n",
            "'FORM_5A_2019-02636_Second Semester AY 2021-2022 (1).pdf'\n",
            "'FORM_5A_2019-02636_Second Semester AY 2021-2022.pdf'\n",
            " FqlMgixX0AANgB-.jpg\n",
            " FqnrvboaUAITycg.jpg\n",
            " Frrl5ZPWIAwa-le.jpg\n",
            "'GCash-09_____4807-09022024123546 (1).PNG.jpg'\n",
            " GCash-09_____4807-09022024123546.PNG.jpg\n",
            "'Getting started.pdf'\n",
            " GGd5i5WaYAAqKWE.jpg\n",
            "'Hair Ideas'\n",
            " helooooo.pdf\n",
            "'How to Use VirtualBox (Beginners Guide).mp4'\n",
            "'III_MENDOZA, Chris Andrew_BS Applied Physics.pdf'\n",
            " IMG_0241.HEIC\n",
            " IMG_0537.HEIC\n",
            " IMG_0538.HEIC\n",
            " IMG_0539.HEIC\n",
            " IMG_0722.PNG\n",
            " IMG_0723.PNG\n",
            " IMG_0743.HEIC\n",
            " IMG_0744.HEIC\n",
            " IMG_0749.HEIC\n",
            " IMG_0880.PNG\n",
            " IMG_0899.heic\n",
            " IMG_0902.heic\n",
            " IMG_0964.heic\n",
            " IMG_0979.heic\n",
            " IMG_1006.heic\n",
            " IMG_1007.heic\n",
            " IMG_1015.HEIC\n",
            "'IMG_1029 (1).PNG'\n",
            " IMG_1029.PNG\n",
            "'IMG_1031 (1).PNG'\n",
            " IMG_1031.PNG\n",
            " inbound1267206164527959548.jpg\n",
            " inbound1914710955259093738.jpg\n",
            " inbound477846951459436046.jpg\n",
            " inbound6630228805476493378.png\n",
            " inbound7902775246917062226.png\n",
            " inbound8369461627341146568.jpg\n",
            "'Iphone Wallpapers'\n",
            " Jesus_recession.png\n",
            "'JFA tiktok'\n",
            "'kylo-ren-from-star-wars_1420x2514_xtrafondos (1).com.jpg'\n",
            " kylo-ren-from-star-wars_1420x2514_xtrafondos.com.jpg\n",
            " kylo-ren-lightsaber-star-wars-25-4k.jpg\n",
            " MC1.m4a\n",
            " MC2.m4a\n",
            " MC3.m4a\n",
            " MC4.m4a\n",
            " MC5.m4a\n",
            " MC6.m4a\n",
            " MC7.m4a\n",
            " Mendoza_AP155\n",
            " Mendoza_April19_GCash.jpg\n",
            "'Mendoza_Chris_Andrew_151_Notebook_1 (1).pdf'\n",
            " Mendoza_Chris_Andrew_151_Notebook_1.pdf\n",
            " Mendoza_Chris_Andrew_151_Notebook1.pdf\n",
            " Mendoza_Chris_Andrew_151_PS1.pdf\n",
            " Mendoza_Chris_Andrew_170_Notebook_1.pdf\n",
            " Mendoza_Chris_Andrew_170_Notebook1.pdf\n",
            " Mendoza_Chris_Andrew_170_PS1.pdf\n",
            " Mendoza_ChrisAndrew_192_PS_1.pdf\n",
            "'Mendoza, Chris Andrew - 1.jpg'\n",
            "'MENDOZA, Chris Andrew (1).pdf'\n",
            "'MENDOZA_CHRIS ANDREW_201902636_GCASH.jpg'\n",
            "'MENDOZA_CHRIS ANDREW_201902636_ONLINE PAYMENT SLIP.pdf'\n",
            "'MENDOZA, Chris Andrew (2).pdf'\n",
            "'MENDOZA, Chris Andrew (3).pdf'\n",
            "'MENDOZA, CHRIS ANDREW D. - TCG[sgd] (1).pdf'\n",
            "'MENDOZA, CHRIS ANDREW D. - TCG[sgd].pdf'\n",
            " Mendoza_Chris_Andrew_Notebook_1.pdf\n",
            "'MENDOZA, Chris Andrew.pdf'\n",
            " MENDOZA_ChrisAndrew_P_Phys165_EMWaveSimulations.pdf\n",
            " MENDOZAChrisAndrewP_Phys165_IntroToFourierOptics.mp4\n",
            " MENDOZAChrisAndrewP_Phys165_PinholeCamera.pdf\n",
            " MENDOZA_Chris_Andrew_P_Phys165_ProblemSet1_Chapter_2.pdf\n",
            " MENDOZAChrisAndrewP_Phys165_WavePropagation.mp4\n",
            "'MENDOZAChrisAndrewP_Phys165_WavePropagation[SEE_LINK_TO_VIDEO_INSIDE].txt'\n",
            " Mendoza_Chris_Andrew_PS1.pdf\n",
            "'Mendoza_Chris Andrew_Thesis_Abstract_1S_AY2324.pdf.gdoc'\n",
            " Mendoza_ID.png\n",
            "'Mendoza Introduction.mp4'\n",
            "'[Mendoza] Physics 151 - Notebook 2.pdf'\n",
            "'[Mendoza] Physics 151 - Problem Set 2.pdf'\n",
            "'[Mendoza] Physics 170 - Notebook 2.pdf'\n",
            "'[Mendoza] Physics 170 - Problem Set 2.pdf'\n",
            " Mendoza_Proof.png\n",
            "'met museum manila '\n",
            "\"Nat'l Museum + Intramuros\"\n",
            "'New uploads'\n",
            " NIP_Logo.png\n",
            "'NIP Undergraduate Thesis Abstract Format.gdoc'\n",
            "'Notes on ‘LLP’ origin.gdoc'\n",
            "'Old Manila Adventures'\n",
            "'Order#: 0001 Customer: Allan Jr. Mesa.pdf'\n",
            " original.webp\n",
            "'Output Week 11 - ROTC'\n",
            " paymaya_1650037030171.jpg\n",
            "'PE2 CT-THK, 201902636.gdoc'\n",
            "'Photo DP'\n",
            " PHYS431-HW-6-Fall2014.pdf\n",
            " Physics_131_Problem_Set_3_2022_2023.gdoc\n",
            "'physics-151-course-guide up to midterm.pdf'\n",
            "'Physics 151 - Notebook 2.pdf'\n",
            "'Physics 151 - Problem Set 2.pdf'\n",
            "'physics-170-course-guide weeks 1-7.pdf'\n",
            "'Physics 170 - Notebook 2.pdf'\n",
            "'Physics 170 - Problem Set 2.pdf'\n",
            "'Predicting Stock Prices Through Machine Learning.gdoc'\n",
            "'Project 3 (PHYSICS 165)'\n",
            " Rateeee\n",
            " received_365452446445634.jpeg\n",
            " s10052-021-08945-9.pdf\n",
            "'Sales team budget proposal.gsheet'\n",
            " SCE_IG_Post\n",
            " Screenshot_20230909_100740_Gmail.jpg\n",
            "'Screenshot 2024-01-03 190816.png'\n",
            "'Screenshot 2024-01-23 232234.png'\n",
            "'Screenshot 2024-01-23 232254.png'\n",
            "'Screenshot 2024-01-25 110936.png'\n",
            "'Screenshot 2024-01-31 021136.png'\n",
            "'Screenshot 2024-01-31 021154.png'\n",
            "'Screenshot 2024-01-31 021222.png'\n",
            "'Screenshot 2024-01-31 021254.png'\n",
            "'Screenshot 2024-01-31 021320.png'\n",
            "'Screenshot 2024-02-02 232700.png'\n",
            "'Screenshot 2024-02-29 084758.png'\n",
            "'Screenshot 2024-02-29 084909.png'\n",
            " Screenshot_20240303_181906_Instagram.jpg\n",
            " Screenshot_20240509_173721_Messages.jpg\n",
            "'September 28 - Mendoza, Chris Andrew.jpg'\n",
            " SF1.m4a\n",
            " SF2.m4a\n",
            " SF3.m4a\n",
            " SF4.m4a\n",
            " SF5.m4a\n",
            " SF6.m4a\n",
            " SF7.m4a\n",
            "'Shell Think Tank'\n",
            "'Sistine Chapel Exhibit'\n",
            "'Slow cooling'\n",
            " solutions_manual.pdf\n",
            " startnumbers_212329.pdf\n",
            "'Stock Pitch - $PLTR'\n",
            " Switch_to_5V.jpg\n",
            "'Thesis Tracker'\n",
            "'Traveler ng Bayan_2.5 by 2.5 in.png'\n",
            "'TV Series'\n",
            "'UFM Booth Concept.pdf'\n",
            "'UP CRS - View Grades (1).pdf'\n",
            "'UP CRS - View Grades.pdf'\n",
            "'UPIC Booth Think Tank'\n",
            "'UPIC Finance Committee Onboarding.gdoc'\n",
            "'UPIC Notable Alumni'\n",
            "'UPIC UFM Tarps'\n",
            " UPIC_Uniform_Elements\n",
            "'UPIC YTS Merch'\n",
            " up_logo.png\n",
            "'UP Pics'\n",
            " video1311202828.mp4\n",
            " video_2024-02-24_21-50-11.mp4\n",
            " VideoCapture_20240122-052838.jpg\n",
            " VideoCapture_20240303-131511.jpg\n",
            " VideoCapture_20240303-131946.jpg\n",
            " VideoCapture_20240303-131956.jpg\n",
            " VideoCapture_20240303-132407.jpg\n",
            " VideoCapture_20240303-132523.jpg\n",
            "'Winston planking..jpg'\n",
            " ypkc9fcj0k0a1.jpg\n",
            "'YTS Tarps'\n"
          ]
        }
      ]
    },
    {
      "cell_type": "code",
      "source": [
        "file_path = \"/content/drive/My Drive/App Physics 157/\""
      ],
      "metadata": {
        "id": "a664Mox4sl7z"
      },
      "execution_count": 3,
      "outputs": []
    },
    {
      "cell_type": "code",
      "source": [
        "import numpy as np\n",
        "import matplotlib.pyplot as plt\n",
        "import pandas as pd\n",
        "\n",
        "data_LIGO = pd.read_csv(file_path + 'LIGO.csv')\n",
        "data_LISA = pd.read_csv(file_path + 'LISA.csv')\n",
        "data_ET = pd.read_csv(file_path + 'ET.csv')"
      ],
      "metadata": {
        "id": "p6iCE0C9slu5"
      },
      "execution_count": 4,
      "outputs": []
    },
    {
      "cell_type": "code",
      "source": [
        "# Extract the columns and assign to the specified variable names\n",
        "zLIGO = data_LIGO['zLIGO']\n",
        "dLLIGO = data_LIGO['dlLIGO']\n",
        "errLIGO = data_LIGO['errLIGO']\n",
        "\n",
        "zLISA = data_LISA['zLISA']\n",
        "dLLISA = data_LISA['dlLISA']\n",
        "errLISA = data_LISA['errLISA']\n",
        "\n",
        "zET = data_ET['zET']\n",
        "dLET = data_ET['dlET']\n",
        "errET = data_ET['errET']\n",
        "\n",
        "# Print the first few rows to verify the data\n",
        "print(zLIGO.head(), dLLIGO.head(), errLIGO.head())\n",
        "print(zLISA.head(), dLLISA.head(), errLISA.head())\n",
        "print(zET.head(), dLET.head(), errET.head())"
      ],
      "metadata": {
        "colab": {
          "base_uri": "https://localhost:8080/"
        },
        "id": "sBqiDLZsslj5",
        "outputId": "a322dbd1-f8b2-4b76-df24-69e7b13c61ed"
      },
      "execution_count": 5,
      "outputs": [
        {
          "output_type": "stream",
          "name": "stdout",
          "text": [
            "0    0.033270\n",
            "1    0.106210\n",
            "2    0.073820\n",
            "3    0.047333\n",
            "4    0.113966\n",
            "Name: zLIGO, dtype: float64 0    0.101250\n",
            "1    0.698621\n",
            "2    0.338016\n",
            "3    0.206075\n",
            "4    0.401371\n",
            "Name: dlLIGO, dtype: float64 0    0.026146\n",
            "1    0.137968\n",
            "2    0.067550\n",
            "3    0.034506\n",
            "4    0.159718\n",
            "Name: errLIGO, dtype: float64\n",
            "0    1.743477\n",
            "1    6.271602\n",
            "2    1.501697\n",
            "3    4.802593\n",
            "4    1.792854\n",
            "Name: zLISA, dtype: float64 0    11.980274\n",
            "1    53.889134\n",
            "2    10.566134\n",
            "3    41.118583\n",
            "4    13.767077\n",
            "Name: dlLISA, dtype: float64 0    0.546082\n",
            "1    8.248728\n",
            "2    0.389478\n",
            "3    5.002363\n",
            "4    0.581335\n",
            "Name: errLISA, dtype: float64\n",
            "0    0.943093\n",
            "1    1.853726\n",
            "2    1.050134\n",
            "3    1.408336\n",
            "4    1.332070\n",
            "Name: zET, dtype: float64 0     5.611648\n",
            "1     7.475383\n",
            "2     7.436797\n",
            "3    11.949542\n",
            "4     9.204053\n",
            "Name: dlET, dtype: float64 0    0.826565\n",
            "1    3.542138\n",
            "2    1.043646\n",
            "3    1.967179\n",
            "4    1.744991\n",
            "Name: errET, dtype: float64\n"
          ]
        }
      ]
    },
    {
      "cell_type": "markdown",
      "source": [
        "By the end of the lab assignment, you will generate constraints on the cosmological parameters H_0 and omega_m,0 for 3 samples: LIGO only, LIGO+LISA, and LIGO+LISA+ET (combined). You will generate a corner plot to visualize these constraints similar to the figure here: https://drive.google.com/file/d/18H7GPlox4ijS9qFbk1rHo-NW5N_Nsfer/view?usp=drive_link"
      ],
      "metadata": {
        "id": "Xz28sa5B9mpx"
      }
    },
    {
      "cell_type": "markdown",
      "source": [
        "#### PART 1 - Generate Hubble Diagram *(20 points)*\n",
        "\n",
        "Make a Hubble diagram plot-- with luminosity distance (d_L) in the vertical axis and redshift (z) in the horizontal axis. Show the errors in d_L as error bars.\n",
        "\n",
        "Plot GW sirens from the 3 observatories in the same plot and include a legend. Briefly describe the difference between the samples from the 3 observatories."
      ],
      "metadata": {
        "id": "SqkP0l40aKHj"
      }
    },
    {
      "cell_type": "code",
      "source": [
        "# Create the Hubble diagram plot\n",
        "plt.figure(figsize=(10, 6))\n",
        "\n",
        "# Plot LIGO data with error bars\n",
        "plt.errorbar(zLIGO, dLLIGO, yerr=errLIGO, fmt='o', label='LIGO', capsize=5)\n",
        "\n",
        "# Plot LISA data with error bars\n",
        "plt.errorbar(zLISA, dLLISA, yerr=errLISA, fmt='s', label='LISA', capsize=5)\n",
        "\n",
        "# Plot ET data with error bars\n",
        "plt.errorbar(zET, dLET, yerr=errET, fmt='^', label='ET', capsize=5)\n",
        "\n",
        "# Adding labels and title\n",
        "plt.xlabel('Redshift (z)')\n",
        "plt.ylabel('Luminosity Distance (Gpc)')\n",
        "plt.title('Hubble Diagram of GW Sirens from the 3 observatories')\n",
        "plt.legend()"
      ],
      "metadata": {
        "id": "drqNxmsAayWH",
        "colab": {
          "base_uri": "https://localhost:8080/",
          "height": 581
        },
        "outputId": "e50b1ab2-1ed8-4683-c574-811d8b9524ff"
      },
      "execution_count": 14,
      "outputs": [
        {
          "output_type": "execute_result",
          "data": {
            "text/plain": [
              "<matplotlib.legend.Legend at 0x79ec69df35b0>"
            ]
          },
          "metadata": {},
          "execution_count": 14
        },
        {
          "output_type": "display_data",
          "data": {
            "text/plain": [
              "<Figure size 1000x600 with 1 Axes>"
            ],
            "image/png": "[encoded data removed]"
          },
          "metadata": {}
        }
      ]
    },
    {
      "cell_type": "markdown",
      "source": [
        "# **DISCUSSION**\n",
        "\n",
        "In the plot it is observed that the 3 observatories cover different ranges of GW sirens in terms of redshift and luminosity distance. LIGO is able to cover GW sirens of z < 1 with a shorter luminosity distance. ET on the other hand has wider range in terms of redshift compared to LIGO but it the points have a large degree of uncertainty especially in the region with large z and luminosity distance. Last but not the least, LISA exhibits the largest range for detecting GW sirens as it is shown to capture points with z values spanning fro 0.X to ~6. It is also able to capture the points with the largest luminosity distances. The plot above also has shown that the amount of redshift is directly proportional to the luminosity distance.\n"
      ],
      "metadata": {
        "id": "sJTwm9uHvr_q"
      }
    },
    {
      "cell_type": "markdown",
      "source": [
        "#### PART 2 - Define likelihood functions *(20 points)*\n",
        "\n",
        "In this analysis, we will assume the cosmological model to be flat LambdaCDM universe. This is given by the `FlatLambdaCDM' model from the astropy.cosmology package. In particular, we use the model for the luminosity distance as a function of redshift, which is encoded in the luminosity_distance function.\n",
        "\n",
        "Below, define the chi-square and likelihood function to be used for the LIGO only and the LIGO+LISA dataset. You are asked to define the analogous functions for the LIGO+LISA+ET dataset. Note that the likelihood for the combined dataset is simply the sum of the likelihoods for the individual datasets.\n",
        "\n",
        "\n"
      ],
      "metadata": {
        "id": "CPkkgWSqazmJ"
      }
    },
    {
      "cell_type": "code",
      "source": [
        "import numpy as np\n",
        "from astropy.cosmology import FlatLambdaCDM\n",
        "\n",
        "def chi2LIGO_lcdm(H0, Om0):\n",
        "    cosmo = FlatLambdaCDM(H0=H0, Om0=Om0, Tcmb0=2.725)\n",
        "    model = np.array(cosmo.luminosity_distance(zLIGO)/1000)\n",
        "    dev = (model - np.array(dLLIGO))/np.array(errLIGO)\n",
        "    chi2 = sum(dev**2)\n",
        "    return chi2\n",
        "\n",
        "def llikeLIGO_lcdm(H0, Om0):\n",
        "    if (H0 < 0) or (Om0 < 0):\n",
        "        return -np.inf\n",
        "    else:\n",
        "        return -0.5*chi2LIGO_lcdm(H0, Om0)\n",
        "\n",
        "# LIGO + LISA\n",
        "def chi2LISA_lcdm(H0, Om0):\n",
        "    cosmo = FlatLambdaCDM(H0=H0, Om0=Om0, Tcmb0=2.725)\n",
        "    model = np.array(cosmo.luminosity_distance(zLISA)/1000)\n",
        "    dev = (model - np.array(dLLISA))/np.array(errLISA)\n",
        "    chi2 = sum(dev**2)\n",
        "    return chi2\n",
        "\n",
        "def llikeLIGOLISA_lcdm(H0, Om0):\n",
        "    if (H0 < 0) or (Om0 < 0):\n",
        "        return -np.inf\n",
        "    else:\n",
        "        return -0.5*(chi2LIGO_lcdm(H0, Om0) + chi2LISA_lcdm(H0, Om0))\n",
        "\n",
        "# LIGO + LISA + ET\n",
        "def chi2ET_lcdm(H0, Om0):\n",
        "    cosmo = FlatLambdaCDM(H0=H0, Om0=Om0, Tcmb0=2.725)\n",
        "    model = np.array(cosmo.luminosity_distance(zET)/1000)\n",
        "    dev = (model - np.array(dLET))/np.array(errET)\n",
        "    chi2 = sum(dev**2)\n",
        "    return chi2\n",
        "\n",
        "def llikeLIGOLISAET_lcdm(H0, Om0):\n",
        "    if (H0 < 0) or (Om0 < 0):\n",
        "        return -np.inf\n",
        "    else:\n",
        "        return -0.5*(chi2LIGO_lcdm(H0, Om0) + chi2LISA_lcdm(H0, Om0) \\\n",
        "                     + chi2ET_lcdm(H0, Om0))"
      ],
      "metadata": {
        "id": "lIFbFSTNbd9V"
      },
      "execution_count": 16,
      "outputs": []
    },
    {
      "cell_type": "markdown",
      "source": [
        "# **DISCUSSION**\n",
        "\n",
        "The likelihood functions use the chi-square values to compute the log-likelihood. The log-likelihood functions are defined as:\n",
        "\n",
        "log-likelihood = −0.5 × 𝜒2\n",
        "\n",
        "This formulation ensures that the likelihood is maximized when the chi-square value is minimized, aligning with the principle of maximum likelihood estimation. The chi-square functions are essential for quantifying the agreement between the cosmological model and the observed data, forming the basis for the likelihood functions used in the MCMC analysis to constrain the cosmological parameters 𝐻_0 and Ω_𝑚."
      ],
      "metadata": {
        "id": "yDNj2PEuycJX"
      }
    },
    {
      "cell_type": "markdown",
      "source": [
        "#### PART 3 - Perform MCMC runs *(30 points)*\n",
        "\n",
        "Use the emcee library to set up and perform MCMC runs for the 3 samples: LIGO only, LIGO+LISA, and LIGO+LISA+ET combined.\n",
        "\n",
        "You can try the ff. parameters-- number of walkers (nwalkers) of 100 and number of iterations (niter) of 1,000 and number of burn-in samples (nburn) of 100.\n",
        "\n",
        "Note that the number of dimensions (ndim) is the number of parameters, equal to 2.\n",
        "\n",
        "For the methodology of stepping from one place of the grid to another, you can use:\n",
        "\n",
        "    dres = [0.1, 0.003] # step size for H_0 and omega_m,0, respectively\n",
        "    initial = np.array([70., 0.3])\n",
        "    p0 = [initial + dres * np.random.randn(ndim) for i in range(nwalkers)]\n",
        "\n",
        "For the 'lnprob' function equivalent, you can define (for example):\n",
        "\n",
        "    def lnprob(x):\n",
        "      '''params: H0, Om0 = x0, x1'''\n",
        "      return llikeLIGOLISA_lcdm(x[0], x[1])\n",
        "\n",
        "Also note that because in our definition of likelihood functions, the data is ``hard-coded'', you do not need to use the \"args\" keyword in the emcee.EnsembleSampler command."
      ],
      "metadata": {
        "id": "qz6HLhQE8UAh"
      }
    },
    {
      "cell_type": "code",
      "source": [
        "pip install -U emcee"
      ],
      "metadata": {
        "id": "iGseIx73b9zd",
        "colab": {
          "base_uri": "https://localhost:8080/"
        },
        "outputId": "4221d2c7-9d21-4352-db64-bb7a62b77420"
      },
      "execution_count": 17,
      "outputs": [
        {
          "output_type": "stream",
          "name": "stdout",
          "text": [
            "Collecting emcee\n",
            "  Downloading emcee-3.1.6-py2.py3-none-any.whl (47 kB)\n",
            "\u001b[?25l     \u001b[90m━━━━━━━━━━━━━━━━━━━━━━━━━━━━━━━━━━━━━━━━\u001b[0m \u001b[32m0.0/47.4 kB\u001b[0m \u001b[31m?\u001b[0m eta \u001b[36m-:--:--\u001b[0m\r\u001b[2K     \u001b[91m━━━━━━━━━━━━━━━━━━━━━━━━━\u001b[0m\u001b[91m╸\u001b[0m\u001b[90m━━━━━━━━━━━━━━\u001b[0m \u001b[32m30.7/47.4 kB\u001b[0m \u001b[31m715.9 kB/s\u001b[0m eta \u001b[36m0:00:01\u001b[0m\r\u001b[2K     \u001b[90m━━━━━━━━━━━━━━━━━━━━━━━━━━━━━━━━━━━━━━━━\u001b[0m \u001b[32m47.4/47.4 kB\u001b[0m \u001b[31m863.3 kB/s\u001b[0m eta \u001b[36m0:00:00\u001b[0m\n",
            "\u001b[?25hRequirement already satisfied: numpy in /usr/local/lib/python3.10/dist-packages (from emcee) (1.25.2)\n",
            "Installing collected packages: emcee\n",
            "Successfully installed emcee-3.1.6\n"
          ]
        }
      ]
    },
    {
      "cell_type": "code",
      "source": [
        "pip install -U multiprocess"
      ],
      "metadata": {
        "colab": {
          "base_uri": "https://localhost:8080/"
        },
        "id": "AoQ6o56J0hTV",
        "outputId": "726a3f51-7641-4eaa-cc39-4c1b3a781a40"
      },
      "execution_count": 18,
      "outputs": [
        {
          "output_type": "stream",
          "name": "stdout",
          "text": [
            "Collecting multiprocess\n",
            "  Downloading multiprocess-0.70.16-py310-none-any.whl (134 kB)\n",
            "\u001b[2K     \u001b[90m━━━━━━━━━━━━━━━━━━━━━━━━━━━━━━━━━━━━━━━━\u001b[0m \u001b[32m134.8/134.8 kB\u001b[0m \u001b[31m1.3 MB/s\u001b[0m eta \u001b[36m0:00:00\u001b[0m\n",
            "\u001b[?25hCollecting dill>=0.3.8 (from multiprocess)\n",
            "  Downloading dill-0.3.8-py3-none-any.whl (116 kB)\n",
            "\u001b[2K     \u001b[90m━━━━━━━━━━━━━━━━━━━━━━━━━━━━━━━━━━━━━━━━\u001b[0m \u001b[32m116.3/116.3 kB\u001b[0m \u001b[31m6.7 MB/s\u001b[0m eta \u001b[36m0:00:00\u001b[0m\n",
            "\u001b[?25hInstalling collected packages: dill, multiprocess\n",
            "Successfully installed dill-0.3.8 multiprocess-0.70.16\n"
          ]
        }
      ]
    },
    {
      "cell_type": "code",
      "source": [
        "pip install -U getdist"
      ],
      "metadata": {
        "colab": {
          "base_uri": "https://localhost:8080/"
        },
        "id": "3Eby4dte0hOC",
        "outputId": "7c579588-a808-488f-f8cb-83b81d7702a4"
      },
      "execution_count": 19,
      "outputs": [
        {
          "output_type": "stream",
          "name": "stdout",
          "text": [
            "Collecting getdist\n",
            "  Downloading getdist-1.4.8.tar.gz (826 kB)\n",
            "\u001b[2K     \u001b[90m━━━━━━━━━━━━━━━━━━━━━━━━━━━━━━━━━━━━━━━━\u001b[0m \u001b[32m826.0/826.0 kB\u001b[0m \u001b[31m4.1 MB/s\u001b[0m eta \u001b[36m0:00:00\u001b[0m\n",
            "\u001b[?25h  Installing build dependencies ... \u001b[?25l\u001b[?25hdone\n",
            "  Getting requirements to build wheel ... \u001b[?25l\u001b[?25hdone\n",
            "  Preparing metadata (pyproject.toml) ... \u001b[?25l\u001b[?25hdone\n",
            "Requirement already satisfied: numpy>=1.17.0 in /usr/local/lib/python3.10/dist-packages (from getdist) (1.25.2)\n",
            "Requirement already satisfied: matplotlib!=3.5.0,>=2.2.0 in /usr/local/lib/python3.10/dist-packages (from getdist) (3.7.1)\n",
            "Requirement already satisfied: scipy>=1.5 in /usr/local/lib/python3.10/dist-packages (from getdist) (1.11.4)\n",
            "Requirement already satisfied: PyYAML>=5.1 in /usr/local/lib/python3.10/dist-packages (from getdist) (6.0.1)\n",
            "Requirement already satisfied: packaging in /usr/local/lib/python3.10/dist-packages (from getdist) (24.0)\n",
            "Requirement already satisfied: contourpy>=1.0.1 in /usr/local/lib/python3.10/dist-packages (from matplotlib!=3.5.0,>=2.2.0->getdist) (1.2.1)\n",
            "Requirement already satisfied: cycler>=0.10 in /usr/local/lib/python3.10/dist-packages (from matplotlib!=3.5.0,>=2.2.0->getdist) (0.12.1)\n",
            "Requirement already satisfied: fonttools>=4.22.0 in /usr/local/lib/python3.10/dist-packages (from matplotlib!=3.5.0,>=2.2.0->getdist) (4.51.0)\n",
            "Requirement already satisfied: kiwisolver>=1.0.1 in /usr/local/lib/python3.10/dist-packages (from matplotlib!=3.5.0,>=2.2.0->getdist) (1.4.5)\n",
            "Requirement already satisfied: pillow>=6.2.0 in /usr/local/lib/python3.10/dist-packages (from matplotlib!=3.5.0,>=2.2.0->getdist) (9.4.0)\n",
            "Requirement already satisfied: pyparsing>=2.3.1 in /usr/local/lib/python3.10/dist-packages (from matplotlib!=3.5.0,>=2.2.0->getdist) (3.1.2)\n",
            "Requirement already satisfied: python-dateutil>=2.7 in /usr/local/lib/python3.10/dist-packages (from matplotlib!=3.5.0,>=2.2.0->getdist) (2.8.2)\n",
            "Requirement already satisfied: six>=1.5 in /usr/local/lib/python3.10/dist-packages (from python-dateutil>=2.7->matplotlib!=3.5.0,>=2.2.0->getdist) (1.16.0)\n",
            "Building wheels for collected packages: getdist\n",
            "  Building wheel for getdist (pyproject.toml) ... \u001b[?25l\u001b[?25hdone\n",
            "  Created wheel for getdist: filename=getdist-1.4.8-py3-none-any.whl size=810431 sha256=7700aa78f9cdb9f2843ed999149004e8fffce3cdac9c9d17d2077345d14c1097\n",
            "  Stored in directory: /root/.cache/pip/wheels/ba/db/c3/b71b37200117c3b4c68b8bb14c9e27ed36006205fa25ba0c40\n",
            "Successfully built getdist\n",
            "Installing collected packages: getdist\n",
            "Successfully installed getdist-1.4.8\n"
          ]
        }
      ]
    },
    {
      "cell_type": "code",
      "source": [
        "### For LIGO ONLY ####\n",
        "\n",
        "import emcee\n",
        "from scipy.optimize import minimize\n",
        "import time\n",
        "import multiprocess\n",
        "from multiprocess import Pool\n",
        "from getdist import plots, MCSamples\n",
        "\n",
        "ndim, nwalkers = 2, 6\n",
        "nburn = 100\n",
        "nmcmc = 5000\n",
        "\n",
        "dres = [0.1, 0.003]\n",
        "burnin = 100\n",
        "\n",
        "resultsLIGO_lcdm = []\n",
        "samplesLIGO_lcdm = {}\n",
        "\n",
        "def loglike(x):\n",
        "    '''params: H0, Om0 = x0, x1'''\n",
        "    return llikeLIGO_lcdm(x[0], x[1])\n",
        "\n",
        "def chimint(x):\n",
        "    return -loglike(x)\n",
        "\n",
        "print('searching the initial position ...')\n",
        "rest = minimize(chimint, [70, 0.3], method = 'Nelder-Mead')\n",
        "print('minimization 0.5*chi2', rest.x)\n",
        "result = rest.x\n",
        "\n",
        "# MCMC starts here\n",
        "with Pool() as pool:\n",
        "    start = time.time()\n",
        "    sampler = emcee.EnsembleSampler(nwalkers, ndim, loglike, pool=pool)\n",
        "\n",
        "    pos0 = [result + dres * np.random.randn(ndim) for i in range(nwalkers)]\n",
        "\n",
        "    print(\"Running MCMC...\")\n",
        "    pos1 = sampler.run_mcmc(pos0, nburn, rstate0=np.random.get_state())\n",
        "    sampler.reset()\n",
        "    pos2 = pos1\n",
        "    sampler.run_mcmc(pos2, nmcmc, rstate0=np.random.get_state(), progress=True)\n",
        "    print(\"Done.\")\n",
        "\n",
        "    samps = sampler.chain[:, burnin:, :].reshape((-1, ndim))\n",
        "    names = [\"H0\", \"Om0\"]\n",
        "    labels = [\"H_0\", \"\\Omega_{m0}\"]\n",
        "\n",
        "    resultsLIGO_lcdm.append(samps)\n",
        "    samplesLIGO_lcdm = MCSamples(samples=samps, names=names, labels=labels)\n",
        "\n",
        "    H0_mcmc, Om0_mcmc = map(lambda v: (v[1], v[2]-v[1], v[1]-v[0]), \\\n",
        "                            zip(*np.percentile(samps, [16, 50, 84], axis=0)))\n",
        "    print(\"\"\"MCMC result:\n",
        "             $H_0$       = {0[0]} + {0[1]} - {0[2]}\n",
        "             $\\Omega_m0$ = {1[0]} + {1[1]} - {1[2]}\n",
        "          \"\"\".format(H0_mcmc, Om0_mcmc))\n",
        "\n",
        "    print(\"Mean acceptance fraction:\", np.mean(sampler.acceptance_fraction), time.time() - start)"
      ],
      "metadata": {
        "colab": {
          "base_uri": "https://localhost:8080/"
        },
        "id": "UlWCLKO70hGr",
        "outputId": "65f8d079-317b-4aa1-b151-0caa7713584a"
      },
      "execution_count": 20,
      "outputs": [
        {
          "output_type": "stream",
          "name": "stdout",
          "text": [
            "searching the initial position ...\n",
            "minimization 0.5*chi2 [68.93595678  0.66195196]\n",
            "Running MCMC...\n"
          ]
        },
        {
          "output_type": "stream",
          "name": "stderr",
          "text": [
            "100%|██████████| 5000/5000 [02:44<00:00, 30.36it/s]\n"
          ]
        },
        {
          "output_type": "stream",
          "name": "stdout",
          "text": [
            "Done.\n",
            "Removed no burn in\n",
            "MCMC result:\n",
            "             $H_0$       = 67.0024455851213 + 2.9279678316736977 - 3.567055604413909\n",
            "             $\\Omega_m0$ = 1.287127084622027 + 1.3923000019794678 - 0.829399645149866\n",
            "          \n",
            "Mean acceptance fraction: 0.6938 169.78199219703674\n"
          ]
        }
      ]
    },
    {
      "cell_type": "code",
      "source": [
        "### For LIGO + LISA ###\n",
        "\n",
        "ndim, nwalkers = 2, 6\n",
        "nburn = 100\n",
        "nmcmc = 5000\n",
        "\n",
        "dres = [0.1, 0.003]\n",
        "burnin = 100\n",
        "\n",
        "resultsLIGOLISA_lcdm = []\n",
        "samplesLIGOLISA_lcdm = {}\n",
        "\n",
        "def loglike(x):\n",
        "    '''params: H0, Om0 = x0, x1'''\n",
        "    return llikeLIGOLISA_lcdm(x[0], x[1])\n",
        "\n",
        "def chimint(x):\n",
        "    return -loglike(x)\n",
        "\n",
        "print('searching the initial position ...')\n",
        "rest = minimize(chimint, [70, 0.3], method = 'Nelder-Mead')\n",
        "print('minimization 0.5*chi2', rest.x)\n",
        "result = rest.x\n",
        "\n",
        "# MCMC starts here\n",
        "with Pool() as pool:\n",
        "    start = time.time()\n",
        "    sampler = emcee.EnsembleSampler(nwalkers, ndim, loglike, pool=pool)\n",
        "\n",
        "    pos0 = [result + dres * np.random.randn(ndim) for i in range(nwalkers)]\n",
        "\n",
        "    print(\"Running MCMC...\")\n",
        "    pos1 = sampler.run_mcmc(pos0, nburn, rstate0=np.random.get_state())\n",
        "    sampler.reset()\n",
        "    pos2 = pos1\n",
        "    sampler.run_mcmc(pos2, nmcmc, rstate0=np.random.get_state(), progress=True)\n",
        "    print(\"Done.\")\n",
        "\n",
        "    samps = sampler.chain[:, burnin:, :].reshape((-1, ndim))\n",
        "    names = [\"H0\", \"Om0\"]\n",
        "    labels = [\"H_0\", \"\\Omega_{m0}\"]\n",
        "\n",
        "    resultsLIGOLISA_lcdm.append(samps)\n",
        "    samplesLIGOLISA_lcdm = MCSamples(samples=samps, names=names, labels=labels)\n",
        "\n",
        "    H0_mcmc, Om0_mcmc = map(lambda v: (v[1], v[2]-v[1], v[1]-v[0]), \\\n",
        "                            zip(*np.percentile(samps, [16, 50, 84], axis=0)))\n",
        "    print(\"\"\"MCMC result:\n",
        "             $H_0$       = {0[0]} + {0[1]} - {0[2]}\n",
        "             $\\Omega_m0$ = {1[0]} + {1[1]} - {1[2]}\n",
        "          \"\"\".format(H0_mcmc, Om0_mcmc))\n",
        "\n",
        "    print(\"Mean acceptance fraction:\", np.mean(sampler.acceptance_fraction), time.time() - start)"
      ],
      "metadata": {
        "colab": {
          "base_uri": "https://localhost:8080/"
        },
        "id": "t0EUVkI10g6I",
        "outputId": "e5bced4e-9e46-4898-8484-0fb1dcbfedae"
      },
      "execution_count": 21,
      "outputs": [
        {
          "output_type": "stream",
          "name": "stdout",
          "text": [
            "searching the initial position ...\n",
            "minimization 0.5*chi2 [70.14033617  0.31225774]\n",
            "Running MCMC...\n"
          ]
        },
        {
          "output_type": "stream",
          "name": "stderr",
          "text": [
            "100%|██████████| 5000/5000 [04:07<00:00, 20.20it/s]"
          ]
        },
        {
          "output_type": "stream",
          "name": "stdout",
          "text": [
            "Done.\n",
            "Removed no burn in\n",
            "MCMC result:\n",
            "             $H_0$       = 70.14985589737165 + 0.967810851517271 - 0.9983792593148593\n",
            "             $\\Omega_m0$ = 0.31217422819698937 + 0.024262859235287815 - 0.021446929207688648\n",
            "          \n",
            "Mean acceptance fraction: 0.7254999999999999 251.53540444374084\n"
          ]
        },
        {
          "output_type": "stream",
          "name": "stderr",
          "text": [
            "\n"
          ]
        }
      ]
    },
    {
      "cell_type": "code",
      "source": [
        "### For LIGO + LISA + ET ###\n",
        "\n",
        "ndim, nwalkers = 2, 6\n",
        "nburn = 100\n",
        "nmcmc = 5000\n",
        "\n",
        "dres = [0.1, 0.003]\n",
        "burnin = 100\n",
        "\n",
        "resultsLIGOLISAET_lcdm = []\n",
        "samplesLIGOLISAET_lcdm = {}\n",
        "\n",
        "def loglike(x):\n",
        "    '''params: H0, Om0 = x0, x1'''\n",
        "    return llikeLIGOLISAET_lcdm(x[0], x[1])\n",
        "\n",
        "def chimint(x):\n",
        "    return -loglike(x)\n",
        "\n",
        "print('searching the initial position ...')\n",
        "rest = minimize(chimint, [70, 0.3], method = 'Nelder-Mead')\n",
        "print('minimization 0.5*chi2', rest.x)\n",
        "result = rest.x\n",
        "\n",
        "# MCMC starts here\n",
        "with Pool() as pool:\n",
        "    start = time.time()\n",
        "    sampler = emcee.EnsembleSampler(nwalkers, ndim, loglike, pool=pool)\n",
        "\n",
        "    pos0 = [result + dres * np.random.randn(ndim) for i in range(nwalkers)]\n",
        "\n",
        "    print(\"Running MCMC...\")\n",
        "    pos1 = sampler.run_mcmc(pos0, nburn, rstate0=np.random.get_state())\n",
        "    sampler.reset()\n",
        "    pos2 = pos1\n",
        "    sampler.run_mcmc(pos2, nmcmc, rstate0=np.random.get_state(), progress=True)\n",
        "    print(\"Done.\")\n",
        "\n",
        "    samps = sampler.chain[:, burnin:, :].reshape((-1, ndim))\n",
        "    names = [\"H0\", \"Om0\"]\n",
        "    labels = [\"H_0\", \"\\Omega_{m0}\"]\n",
        "\n",
        "    resultsLIGOLISAET_lcdm.append(samps)\n",
        "    samplesLIGOLISAET_lcdm = MCSamples(samples=samps, names=names, labels=labels)\n",
        "\n",
        "    H0_mcmc, Om0_mcmc = map(lambda v: (v[1], v[2]-v[1], v[1]-v[0]), \\\n",
        "                            zip(*np.percentile(samps, [16, 50, 84], axis=0)))\n",
        "    print(\"\"\"MCMC result:\n",
        "             $H_0$       = {0[0]} + {0[1]} - {0[2]}\n",
        "             $\\Omega_m0$ = {1[0]} + {1[1]} - {1[2]}\n",
        "          \"\"\".format(H0_mcmc, Om0_mcmc))\n",
        "\n",
        "    print(\"Mean acceptance fraction:\", np.mean(sampler.acceptance_fraction), time.time() - start)"
      ],
      "metadata": {
        "colab": {
          "base_uri": "https://localhost:8080/"
        },
        "id": "d0NcZti60gu4",
        "outputId": "eade64ec-2076-45b0-d24a-077a50e6ded3"
      },
      "execution_count": 22,
      "outputs": [
        {
          "output_type": "stream",
          "name": "stdout",
          "text": [
            "searching the initial position ...\n",
            "minimization 0.5*chi2 [69.80399394  0.32096488]\n",
            "Running MCMC...\n"
          ]
        },
        {
          "output_type": "stream",
          "name": "stderr",
          "text": [
            "100%|██████████| 5000/5000 [07:36<00:00, 10.96it/s]\n"
          ]
        },
        {
          "output_type": "stream",
          "name": "stdout",
          "text": [
            "Done.\n",
            "Removed no burn in\n",
            "MCMC result:\n",
            "             $H_0$       = 69.81057717198189 + 0.7925034980903405 - 0.8356265105176561\n",
            "             $\\Omega_m0$ = 0.3209575580947854 + 0.022180563370344963 - 0.020789859555999157\n",
            "          \n",
            "Mean acceptance fraction: 0.7217666666666668 465.5397720336914\n"
          ]
        }
      ]
    },
    {
      "cell_type": "markdown",
      "source": [
        "# **DISCUSSION**\n",
        "\n",
        "The general methodology for conducting the MCMC runs for the datasets involves several key steps. First, the likelihood function for the cosmological parameters H_0 and Ω_𝑚 is defined based on the chi-square fit to the LIGO data. An initial optimization using the Nelder-Mead method is performed to find a good starting point for the MCMC, minimizing the negative log-likelihood. Then, an ensemble sampler from the emcee library is set up with a specified number of walkers and dimensions. The walkers are initialized around the optimized starting point with small random perturbations. Using parallel processing, the MCMC is run in two stages: a burn-in phase to allow the walkers to converge, followed by the main sampling phase to collect samples from the posterior distribution. The results are then summarized, including the estimated cosmological parameters and their uncertainties, as well as the mean acceptance fraction are reported to assess the quality of the sampling process.\n",
        "\n",
        "It is discovered that all 3 MCMC runs for the calculation of the hubble constant, H_0, which measures the rate at which the universe is expanding to be in the range of 67 to ~70 km/s/Mpc. The values are quite near to each other thus, it is safe to assume we can get a precise measurement of the constant regardless which dataset we use. For the matter density on the other hand, there is a problem with the calculated value if we use the LIGO data only as the constant derived from it is ~1.3 which is way off from the other 2 calculated values which are at ~0.3. For the acceptance ratio, all 3 MCMC runs have values quite near to the other; it is to be noted though that the LIGO only run had the smallest ratio at around 0.69 while the other 2 were around 0.72. Note that a mean acceptance fraction between 0.2 and 0.5 is generally considered optimal. A high acceptance fraction (close to 1) may indicate that the step sizes are too small, leading to many small moves that don't explore the parameter space efficiently. A low acceptance fraction (close to 0) may suggest that the step sizes are too large, causing many proposals to be rejected because they fall in regions of low probability density."
      ],
      "metadata": {
        "id": "IK1KFST52PCy"
      }
    },
    {
      "cell_type": "markdown",
      "source": [
        "#### PART 4 - Generate corner plot to visualize the constraints *(30 points)*\n",
        "\n",
        "Overlay the results for the 3 samples for easy comparison. Your plot should resemble the figure here: https://drive.google.com/file/d/18H7GPlox4ijS9qFbk1rHo-NW5N_Nsfer/view?usp=drive_link\n",
        "\n",
        "Briefly describe the difference between the constraints obtained from the different samples."
      ],
      "metadata": {
        "id": "WAjESvPb8q3X"
      }
    },
    {
      "cell_type": "code",
      "source": [
        "g = plots.getSubplotPlotter()\n",
        "g.triangle_plot([samplesLIGO_lcdm, samplesLIGOLISA_lcdm, samplesLIGOLISAET_lcdm], filled=True, \\\n",
        "                legend_labels=[r'LIGO', r'LIGO + LISA', r'LIGO + LISA + ET'], \\\n",
        "                contour_colors=['b', 'g', 'r'], \\\n",
        "                title_limit=0, \\\n",
        "                contour_ls=['-', '--', '-.'], contour_lws=1.2, legend_loc='upper right', \\\n",
        "                param_limits = {'H0': (60, 80), 'Om0': (0.2, 0.4)}, \\\n",
        "                markers = {'H0': 70, 'Om0': 0.284})\n",
        "#plt.savefig('postlcdm_mcmc_x2.pdf', bbox_inches = 'tight')\n",
        "plt.show()"
      ],
      "metadata": {
        "id": "4_ITeJOM8uww"
      },
      "execution_count": null,
      "outputs": []
    },
    {
      "cell_type": "code",
      "source": [
        "# import matplotlib.pyplot as plt\n",
        "\n",
        "# def cornerplt(sampleset):\n",
        "#     figure = plt.figure()\n",
        "#     colorlist = [\"blue\", \"green\", \"red\"]\n",
        "\n",
        "#     for i, sample in enumerate(sampleset):\n",
        "#         samples = sample.flatchain\n",
        "#         corner.corner(\n",
        "#             data=samples,\n",
        "#             fig=figure,\n",
        "#             labels=['$H_0$', '$\\Omega_{m0}$'],\n",
        "#             show_titles=True,\n",
        "#             plot_datapoints=True,\n",
        "#             color=colorlist[i],\n",
        "#             range=[(60, 80), (0, 1)]\n",
        "#         )\n",
        "\n",
        "#     plt.show()"
      ],
      "metadata": {
        "id": "rNftr06t37Fe"
      },
      "execution_count": null,
      "outputs": []
    },
    {
      "cell_type": "code",
      "source": [
        "# sampol = {**samplesLIGO_lcdm, **samplesLIGOLISA_lcdm, **samplesLIGOLISAET_lcdm}\n",
        "\n",
        "# cornerplt(sampol)"
      ],
      "metadata": {
        "id": "XsWSnZGB3_Mf"
      },
      "execution_count": null,
      "outputs": []
    }
  ]
}