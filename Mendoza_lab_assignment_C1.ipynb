{
  "nbformat": 4,
  "nbformat_minor": 0,
  "metadata": {
    "colab": {
      "provenance": [],
      "toc_visible": true
    },
    "kernelspec": {
      "name": "python3",
      "display_name": "Python 3"
    }
  },
  "cells": [
    {
      "cell_type": "markdown",
      "metadata": {
        "id": "RSdzzrWrgAXu"
      },
      "source": [
        "# **AP157 Module C Lab Assignment**\n",
        "\n",
        "## Module C1: Networks\n",
        "\n",
        "_Instructions_: Answer each part of the assignment as completely as you can. Discuss **all** your code and results as clearly and concisely as possible.\n",
        "\n",
        "_Scoring Criteria_: 50% - *correctness of code*; 50% - *discussion of the code and results*. Maximum score is **100 points** (Parts 1 and 2 are worth 20 and 80 points, respectively).\n",
        "\n",
        "_Credits_: The sample social network used is taken from https://nauczanki.wordpress.com/2014/11/10/social-network-analysis-basics-in-300-words-dalmooc-assignment-week-3/, which in turn is taken from an unspecified MOOC assignment."
      ]
    },
    {
      "cell_type": "markdown",
      "metadata": {
        "id": "I_dmUyo2pxIt"
      },
      "source": [
        "### Student Information\n",
        "\n",
        "_Full Name (Last Name, First Name)_: Chris Andrew Mendoza \\\n",
        "_Student No._: 2019-02636 \\\n",
        "_Section_: THY-TX-1"
      ]
    },
    {
      "cell_type": "markdown",
      "metadata": {
        "id": "LyO1CnkFp17G"
      },
      "source": [
        "### Submission Information\n",
        "\n",
        "_Date and Time Submitted (most recent upload)_: May 23, 2024 (11:59 PM)\n",
        "\n",
        "**HONOR PLEDGE** I affirm that I have upheld the highest principles of honesty and integrity in my academic work and that this lab assignment is my own work.\n",
        "\n",
        "**Sign here with your full name:** Chris Andrew Mendoza"
      ]
    },
    {
      "cell_type": "markdown",
      "metadata": {
        "id": "xgse8Mt5p35S"
      },
      "source": [
        "### Grading Information (c/o Instructor)\n",
        "\n",
        "TOTAL SCORE: **[]**/100\n",
        "\n",
        "Score breakdown:\n",
        "* Part 1 - []/30\n",
        "* Part 2 - []/30\n",
        "* Part 3 - []/30\n",
        "* Part 4 - []/40\n",
        "\n",
        "_Date and Time Scored (MM/DD/YYYY HH:MM AM/PM):_"
      ]
    },
    {
      "cell_type": "markdown",
      "source": [
        "For all parts of this assignment,  refer to the diagram of the sample social network in the Google Drive \"Datasets\" Folder (https://drive.google.com/file/d/1DkAK44GfocX0bmlSfK5Q6cbYXAUkixyj/view?usp=drive_link)"
      ],
      "metadata": {
        "id": "ume3h45hdJFm"
      }
    },
    {
      "cell_type": "markdown",
      "metadata": {
        "id": "gAgom2vqp-2X"
      },
      "source": [
        "#### PART 1 - Network generation and characteristics *(30 points)*\n",
        "\n",
        "1. Using the Python package networkx, define a network that represents the social network of friends in the diagram. *(15 points)*  \n",
        "\n",
        "2. Calculate the ff. network characteristics: *(15 points; 5 points each)*\n",
        "- Diameter\n",
        "- Density\n",
        "- Average Degree\n",
        "\n",
        "3. Create the degree distribution plot and briefly discuss what it tells us about this social network. *(10 points)*"
      ]
    },
    {
      "cell_type": "code",
      "source": [
        "import networkx as nx\n",
        "import matplotlib.pyplot as plt\n",
        "\n",
        "# Create an undirected graph\n",
        "G = nx.Graph()\n",
        "\n",
        "# Add nodes and edges according to the given friendships\n",
        "edges = [\n",
        "    ('Jill', 'Mike'), ('Jill', 'Bob'), ('Jill', 'John'), ('Jill', 'Leah'),\n",
        "    ('Jill', 'Shane'), ('Jill', 'Emma'),\n",
        "    ('Bob', 'Mike'), ('Bob', 'Jill'), ('Bob', 'Emma'), ('Bob', 'John'),\n",
        "    ('John', 'Bob'), ('John', 'Jill'), ('John', 'Shane'), ('John', 'Leah'),\n",
        "    ('Leah', 'John'), ('Leah', 'Jill'), ('Leah', 'Shane'),\n",
        "    ('Shane', 'Leah'), ('Shane', 'Jill'), ('Shane', 'Emma'), ('Shane', 'Liz'),\n",
        "    ('Emma', 'Mike'), ('Emma', 'Liz'), ('Emma', 'Shane'), ('Emma', 'Jill'), ('Emma', 'Bob'),\n",
        "    ('Liz', 'Emma'), ('Liz', 'Allen'), ('Liz', 'Shane'),\n",
        "    ('Allen', 'Liz'), ('Allen', 'Lisa'),\n",
        "    ('Lisa', 'Allen')\n",
        "]\n",
        "\n",
        "G.add_edges_from(edges)\n",
        "\n",
        "# Check nodes and edges\n",
        "print(\"Nodes:\", G.nodes())\n",
        "print(\"Edges:\", G.edges())\n",
        "\n",
        "# Calculate network characteristics\n",
        "\n",
        "# Diameter\n",
        "diameter = nx.diameter(G)\n",
        "print(\"Diameter of the network:\", diameter)\n",
        "\n",
        "# Density\n",
        "density = nx.density(G)\n",
        "print(\"Density of the network:\", density)\n",
        "\n",
        "# Average Degree\n",
        "average_degree = sum(dict(G.degree()).values()) / len(G.nodes())\n",
        "print(\"Average degree of the network:\", average_degree)\n",
        "\n",
        "# Degree distribution plot\n",
        "degree_sequence = sorted([d for n, d in G.degree()], reverse=True)\n",
        "degree_count = {}\n",
        "for degree in degree_sequence:\n",
        "    if degree in degree_count:\n",
        "        degree_count[degree] += 1\n",
        "    else:\n",
        "        degree_count[degree] = 1\n",
        "\n",
        "degrees, counts = zip(*degree_count.items())\n",
        "\n",
        "plt.figure(figsize=(8, 6))\n",
        "plt.bar(degrees, counts, width=0.80, color='b')\n",
        "\n",
        "plt.title(\"Degree Distribution\")\n",
        "plt.ylabel(\"Count\")\n",
        "plt.xlabel(\"Degree\")\n",
        "plt.show()"
      ],
      "metadata": {
        "id": "U5dRTIPWfNss",
        "colab": {
          "base_uri": "https://localhost:8080/",
          "height": 671
        },
        "outputId": "c8f37e86-1497-43dc-87e5-ff22f335aea0"
      },
      "execution_count": null,
      "outputs": [
        {
          "output_type": "stream",
          "name": "stdout",
          "text": [
            "Nodes: ['Jill', 'Mike', 'Bob', 'John', 'Leah', 'Shane', 'Emma', 'Liz', 'Allen', 'Lisa']\n",
            "Edges: [('Jill', 'Mike'), ('Jill', 'Bob'), ('Jill', 'John'), ('Jill', 'Leah'), ('Jill', 'Shane'), ('Jill', 'Emma'), ('Mike', 'Bob'), ('Mike', 'Emma'), ('Bob', 'Emma'), ('Bob', 'John'), ('John', 'Shane'), ('John', 'Leah'), ('Leah', 'Shane'), ('Shane', 'Emma'), ('Shane', 'Liz'), ('Emma', 'Liz'), ('Liz', 'Allen'), ('Allen', 'Lisa')]\n",
            "Diameter of the network: 4\n",
            "Density of the network: 0.4\n",
            "Average degree of the network: 3.6\n"
          ]
        },
        {
          "output_type": "display_data",
          "data": {
            "text/plain": [
              "<Figure size 800x600 with 1 Axes>"
            ],
            "image/png": "[encoded data removed]"
          },
          "metadata": {}
        }
      ]
    },
    {
      "cell_type": "markdown",
      "source": [
        "# **DISCUSSION**\n",
        "\n",
        "The degree distribution plot shows a summary of how many friends the individuals ar connected to. It can be observed that 3 individuals in the social network is connected with 3 other individuals. A degree of 3 is the mode of this distribution. Note that most of the individuals' degrees lie on the 3-5 range while only few lie on the extreme ends. This is also reflected by the calculated average degree of the network which us 3.6. This means that for the majority of individuals in the network, they are at least friends with 3 or 4 other people in the same network. Only 1 individual is friends either with 1 or 2 people at the most (extremely introverted) and there is also only 1 individual who is friends with 6 people (extremely extroverted)."
      ],
      "metadata": {
        "id": "TK3SGrZyA6KO"
      }
    },
    {
      "cell_type": "markdown",
      "source": [
        "#### PART 2 - Centrality Measures *(30 points)*\n",
        "\n",
        "Generate a table of centrality measures per node. Columns are:\n",
        "- Name\n",
        "- Degree Centrality\n",
        "- Betweenness Centrality\n",
        "- Closeness Centrality\n",
        "\n",
        "Briefly discuss who are the most \"central\" people in the social network and why."
      ],
      "metadata": {
        "id": "aE9PlOt1fIUb"
      }
    },
    {
      "cell_type": "code",
      "source": [
        "import pandas as pd\n",
        "\n",
        "# Calculate centrality measures\n",
        "degree_centrality = nx.degree_centrality(G)\n",
        "betweenness_centrality = nx.betweenness_centrality(G)\n",
        "closeness_centrality = nx.closeness_centrality(G)\n",
        "\n",
        "# Create a DataFrame to store the centrality measures\n",
        "centrality_data = {\n",
        "    'Name': [],\n",
        "    'Degree Centrality': [],\n",
        "    'Betweenness Centrality': [],\n",
        "    'Closeness Centrality': []\n",
        "}\n",
        "\n",
        "for node in G.nodes():\n",
        "    centrality_data['Name'].append(node)\n",
        "    centrality_data['Degree Centrality'].append(degree_centrality[node])\n",
        "    centrality_data['Betweenness Centrality'].append(betweenness_centrality[node])\n",
        "    centrality_data['Closeness Centrality'].append(closeness_centrality[node])\n",
        "\n",
        "centrality_df = pd.DataFrame(centrality_data)\n",
        "\n",
        "# Display the DataFrame\n",
        "print(centrality_df)"
      ],
      "metadata": {
        "id": "PnLzHa-rfOOI",
        "colab": {
          "base_uri": "https://localhost:8080/"
        },
        "outputId": "e4a0b653-c71c-4c22-e0e3-a39fe57523f5"
      },
      "execution_count": null,
      "outputs": [
        {
          "output_type": "stream",
          "name": "stdout",
          "text": [
            "    Name  Degree Centrality  Betweenness Centrality  Closeness Centrality\n",
            "0   Jill           0.666667                0.101852              0.600000\n",
            "1   Mike           0.333333                0.000000              0.500000\n",
            "2    Bob           0.444444                0.023148              0.529412\n",
            "3   John           0.444444                0.023148              0.529412\n",
            "4   Leah           0.333333                0.000000              0.500000\n",
            "5  Shane           0.555556                0.231481              0.642857\n",
            "6   Emma           0.555556                0.231481              0.642857\n",
            "7    Liz           0.333333                0.388889              0.600000\n",
            "8  Allen           0.222222                0.222222              0.428571\n",
            "9   Lisa           0.111111                0.000000              0.310345\n"
          ]
        }
      ]
    },
    {
      "cell_type": "markdown",
      "source": [
        "# **DISCUSSION**\n",
        "\n",
        "In terms of degree centrality aka the individual who is has the most number of connections/friends, that would be Jill. In the network diagram, it can be seen that she is directly connected to 6 other people. In terms of betweenness centrality, Liz is the individual who bridges lots of paths/connections to the other nodes. This means that she is very central in tying people who are not friends with each other to the social network. Lastly, in terms of closeness centrality, both Shane and Emma tie for the most central person as they both are included in most of the shortest paths between 2 other nodes (people). Essentially, they are the \"closest\" to most people in the entire network."
      ],
      "metadata": {
        "id": "jPMY1BAdDxsy"
      }
    },
    {
      "cell_type": "markdown",
      "source": [
        "#### PART 3 - Identify communities *(40 points)*\n",
        "\n",
        "1. Identify communities in the social network using *(30 points)*:\n",
        "- Louvain community detection algorithm\n",
        "- Any other community detection algorithm of your choice\n",
        "\n",
        "2. Calculate the modularity of the partitions from the two community detection algorithms. *(10 points)*\n",
        "\n",
        "Briefly describe the algorithm you used and compare the results from the two algorithms."
      ],
      "metadata": {
        "id": "RmD300mBfQQH"
      }
    },
    {
      "cell_type": "code",
      "source": [
        "from community import community_louvain\n",
        "\n",
        "# Apply Louvain community detection\n",
        "louvain_partition = community_louvain.best_partition(G)\n",
        "\n",
        "# Calculate modularity\n",
        "louvain_modularity = community_louvain.modularity(louvain_partition, G)\n",
        "print(\"Louvain Modularity:\", louvain_modularity)"
      ],
      "metadata": {
        "id": "deBmiyRqfYJJ",
        "colab": {
          "base_uri": "https://localhost:8080/"
        },
        "outputId": "5736b993-a1e5-4fde-f035-7035f3d22fb5"
      },
      "execution_count": null,
      "outputs": [
        {
          "output_type": "stream",
          "name": "stdout",
          "text": [
            "Louvain Modularity: 0.2222222222222222\n"
          ]
        }
      ]
    },
    {
      "cell_type": "markdown",
      "source": [
        "DISCUSSION\n",
        "\n",
        "The Louvain method for community detection is a method to extract non-overlapping communities from large networks [1]. The method is based on modularity optimization. Modularity is a metric that quantifies the strength of division of a network into communities. Higher modularity values indicate a stronger community structure. The goal is to maximize the modularity score, which compares the density of edges inside communities with the density of edges between communities. Here, it can be seen the the modularity score for our given network is rather low at 0.222 which means that the network has a weak structure.\n",
        "\n",
        "\n",
        "\n",
        "\n",
        "\n",
        "\n",
        "References:\n",
        "\n",
        "[1] Blondel, Vincent D; Guillaume, Jean-Loup; Lambiotte, Renaud; Lefebvre, Etienne (9 October 2008). \"Fast unfolding of communities in large networks\". Journal of Statistical Mechanics: Theory and Experiment. 2008 (10): P10008. arXiv:0803.0476. Bibcode:2008JSMTE..10..008B. doi:10.1088/1742-5468/2008/10/P10008. S2CID 334423"
      ],
      "metadata": {
        "id": "AGUcWtsxIiYR"
      }
    },
    {
      "cell_type": "code",
      "source": [
        "from networkx.algorithms.community import girvan_newman\n",
        "from networkx.algorithms.community.quality import modularity\n",
        "\n",
        "# Apply Girvan-Newman community detection\n",
        "comp = girvan_newman(G)\n",
        "# Get the first level of the partition\n",
        "first_level_partition = next(comp)\n",
        "\n",
        "# Convert partition format to a dictionary as required by modularity function\n",
        "gn_partition = {node: idx for idx, community in enumerate(first_level_partition) for node in community}\n",
        "\n",
        "# Calculate modularity\n",
        "gn_modularity = modularity(G, first_level_partition)\n",
        "print(\"Girvan-Newman Modularity:\", gn_modularity)"
      ],
      "metadata": {
        "colab": {
          "base_uri": "https://localhost:8080/"
        },
        "id": "1XHtT8khkJPj",
        "outputId": "bd568319-a8e6-42df-def7-15fd93007848"
      },
      "execution_count": null,
      "outputs": [
        {
          "output_type": "stream",
          "name": "stdout",
          "text": [
            "Girvan-Newman Modularity: 0.09722222222222227\n"
          ]
        }
      ]
    },
    {
      "cell_type": "markdown",
      "source": [
        "# **DISCUSSION**\n",
        "\n",
        "The Girvan-Newman method, named after Michelle Girvan and Mark Newman, is a hierarchical method used to detect communities in complex systems by progressively removing edges from the original network [2]. The alogrithm removes edges with the highest betweenness centrality, effectively dismantling the network into smaller, more tightly-knit groups. Here, we can see that the modularity score is even lower at 0.0972 for our given network, reiterating the conclusion that our network has a weak structure.\n",
        "\n",
        "References:\n",
        "[2]  Girvan M. and Newman M. E. J., Community structure in social and biological networks, Proc. Natl. Acad. Sci. USA 99, 7821–7826 (2002)"
      ],
      "metadata": {
        "id": "q9OXustTKU_a"
      }
    }
  ]
}